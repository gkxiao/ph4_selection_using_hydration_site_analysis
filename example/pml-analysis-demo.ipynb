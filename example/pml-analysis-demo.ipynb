{
 "cells": [
  {
   "cell_type": "markdown",
   "id": "3833e3c3",
   "metadata": {},
   "source": [
    "<h2>Protein pharmacophore selection using hydration-site analysis</h2>\n",
    "<p>Gaokeng Xiao 2021-09-02</p>\n",
    "change to working directory"
   ]
  },
  {
   "cell_type": "code",
   "execution_count": 1,
   "id": "b0e47bf2",
   "metadata": {},
   "outputs": [],
   "source": [
    "import os\n",
    "os.chdir('/public/gkxiao/work/ls4_gist')"
   ]
  },
  {
   "cell_type": "markdown",
   "id": "4a8043aa",
   "metadata": {},
   "source": [
    "create some helper to make things easy"
   ]
  },
  {
   "cell_type": "code",
   "execution_count": 2,
   "id": "b4839bdb",
   "metadata": {},
   "outputs": [],
   "source": [
    "from lxml import etree\n",
    "\n",
    "# check pml file which includes a pharmacophore tag\n",
    "def hasPh4(xml):\n",
    "    root = xml.getroot()\n",
    "    section = []\n",
    "    for i in range(len(root)):\n",
    "        section.append(root.getchildren()[i].tag)\n",
    "    if 'pharmacophore' in section:\n",
    "        return True\n",
    "    else:\n",
    "        return False\n",
    "\n",
    "# gextract pharmacophore from pml file\n",
    "def getPh4(xml):\n",
    "    root = xml.getroot()\n",
    "    section = []\n",
    "    for i in range(len(root)):\n",
    "        section.append(root.getchildren()[i].tag)\n",
    "    idx = section.index('pharmacophore')\n",
    "    ph4 = root.getchildren()[idx]\n",
    "    return ph4\n",
    "\n",
    "# return a feature list\n",
    "def getFeature(ph4):\n",
    "    features = []\n",
    "    for iter in ph4:\n",
    "        features.append(iter.tag)\n",
    "    return features"
   ]
  },
  {
   "cell_type": "markdown",
   "id": "86dd6380",
   "metadata": {},
   "source": [
    "to read a ligandscout pharmacophore model"
   ]
  },
  {
   "cell_type": "code",
   "execution_count": 3,
   "id": "2c6a771d",
   "metadata": {},
   "outputs": [],
   "source": [
    "pml = etree.parse('1ke8.pml')"
   ]
  },
  {
   "cell_type": "code",
   "execution_count": 4,
   "id": "b48d9715",
   "metadata": {},
   "outputs": [],
   "source": [
    "# Dose this pml file includes a ph4 model? \n",
    "if hasPh4(pml) is False:\n",
    "    print('This pml file does not include a pharmacophore model')\n",
    "    exit\n",
    "else:\n",
    "    ph4 = getPh4(pml)"
   ]
  },
  {
   "cell_type": "code",
   "execution_count": 5,
   "id": "468c70d8",
   "metadata": {},
   "outputs": [
    {
     "name": "stdout",
     "output_type": "stream",
     "text": [
      "['point', 'point', 'point', 'vector', 'vector', 'vector', 'vector', 'vector', 'vector', 'volume', 'volume', 'volume', 'volume', 'volume', 'volume', 'volume', 'volume', 'volume', 'volume', 'volume', 'volume', 'volume', 'volume', 'volume', 'volume', 'volume', 'volume', 'volume']\n"
     ]
    }
   ],
   "source": [
    "# list the types of feature\n",
    "features = getFeature(ph4)\n",
    "print(features)"
   ]
  },
  {
   "cell_type": "markdown",
   "id": "5cfa1a7a",
   "metadata": {},
   "source": [
    "read the water denisity calculated with 3D-RISM"
   ]
  },
  {
   "cell_type": "code",
   "execution_count": 6,
   "id": "4312fe01",
   "metadata": {},
   "outputs": [],
   "source": [
    "from gridData import Grid\n",
    "g = Grid('1ke8_3drism_density.dx')"
   ]
  },
  {
   "cell_type": "markdown",
   "id": "09abfc46",
   "metadata": {},
   "source": [
    "Protein pharmacophore selection using hydration-site analysis"
   ]
  },
  {
   "cell_type": "code",
   "execution_count": 7,
   "id": "a1fe5163",
   "metadata": {},
   "outputs": [
    {
     "name": "stdout",
     "output_type": "stream",
     "text": [
      "H -10.37655 47.536613 9.012116 0.3586991705409551\n",
      "H -7.421667 51.1267 15.606299 0.04042515679437711\n",
      "H -13.282467 42.787968 9.254216 0.10889361245169017\n",
      "HBA_target -10.819 52.155 11.823 9.889706906006275\n",
      "HBA_target -9.244 45.091 6.068 3.234434937898573\n",
      "HBA_target -11.648 45.394 5.712 3.075492435079222\n",
      "HBA_target -11.648 45.394 5.712 3.075492435079222\n",
      "HBD_origin -10.311 49.457 10.882 2.2363029801960863\n",
      "HBD_origin -9.501 52.781 13.629 6.264434521935546\n"
     ]
    }
   ],
   "source": [
    "for i in range(len(ph4)):\n",
    "    # create feature\n",
    "    feature_list = getFeature(ph4)\n",
    "    f_type = feature_list[i]\n",
    "    \n",
    "    # Read feature\n",
    "    f = ph4[i]\n",
    "    # Read name name\n",
    "    feat_name = f.items()[0][1]\n",
    "    \n",
    "    if f_type == 'point' or f_type == 'plane':\n",
    "        # x y z coordination\n",
    "        x=f[0].items()[0][1]\n",
    "        y=f[0].items()[1][1]\n",
    "        z=f[0].items()[2][1]\n",
    "        \n",
    "    elif f_type == 'vector' and feat_name == 'HBA':\n",
    "        feat_name = 'HBA_target'\n",
    "        f_origin = f[0]\n",
    "        f_target = f[1]\n",
    "\n",
    "        #x y z coordination\n",
    "        x = f_target.items()[0][1]\n",
    "        y = f_target.items()[1][1]\n",
    "        z = f_target.items()[2][1]\n",
    "    elif f_type == 'vector' and feat_name == 'HBD':\n",
    "        feat_name = 'HBD_origin'\n",
    "        f_origin = f[0]\n",
    "        f_target = f[1]\n",
    "        x = f_origin.items()[0][1]\n",
    "        y = f_origin.items()[1][1]\n",
    "        z = f_origin.items()[2][1]\n",
    "    elif f_type == 'volume':\n",
    "        x = f[0].items()[0][1]\n",
    "        y = f[0].items()[1][1]\n",
    "        z = f[0].items()[2][1]\n",
    "    else:\n",
    "        pass\n",
    "    if f_type != 'volume':\n",
    "        a=[]\n",
    "        b=[]\n",
    "        c=[]\n",
    "        a.append(float(x))\n",
    "        b.append(float(y))\n",
    "        c.append(float(z))\n",
    "        value = g.interpolated(a,b,c)\n",
    "        print(feat_name,x,y,z,value[0])"
   ]
  },
  {
   "cell_type": "code",
   "execution_count": null,
   "id": "a06acd6f",
   "metadata": {},
   "outputs": [],
   "source": []
  }
 ],
 "metadata": {
  "kernelspec": {
   "display_name": "Python 3",
   "language": "python",
   "name": "python3"
  },
  "language_info": {
   "codemirror_mode": {
    "name": "ipython",
    "version": 3
   },
   "file_extension": ".py",
   "mimetype": "text/x-python",
   "name": "python",
   "nbconvert_exporter": "python",
   "pygments_lexer": "ipython3",
   "version": "3.6.6"
  }
 },
 "nbformat": 4,
 "nbformat_minor": 5
}
